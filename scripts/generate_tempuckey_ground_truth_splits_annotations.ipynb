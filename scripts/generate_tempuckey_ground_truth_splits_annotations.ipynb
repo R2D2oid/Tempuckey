{
 "cells": [
  {
   "cell_type": "code",
   "execution_count": 1,
   "metadata": {},
   "outputs": [],
   "source": [
    "import csv\n",
    "import cv2\n",
    "import json\n",
    "import pandas as pd"
   ]
  },
  {
   "cell_type": "code",
   "execution_count": 2,
   "metadata": {},
   "outputs": [],
   "source": [
    "def read_csv(csv_path):\n",
    "    content = []\n",
    "\n",
    "    with open(csv_path, 'r') as csvfile:\n",
    "        reader = csv.reader(csvfile, quoting = csv.QUOTE_ALL)\n",
    "        for row in reader: # each row is a list\n",
    "            content.append(row)\n",
    "\n",
    "    return content\n",
    "\n",
    "\n",
    "def list_to_dict(lst):\n",
    "    dct = {}\n",
    "    for row in lst:\n",
    "        vidname = row[1]\n",
    "        if vidname in dct.keys():\n",
    "            dct[vidname].append({'segment': [float(row[4]), float(row[5])], 'frames': [row[2], row[3]], 'shot_type': row[6], 'split': row[11]})\n",
    "        else:\n",
    "            dct[vidname] = [{'segment': [float(row[4]), float(row[5])], 'frames': [row[2], row[3]], 'shot_type': row[6], 'split': row[11]}]\n",
    "    return dct\n",
    "\n",
    "\n",
    "def frame_to_ts(frame_number, fps):\n",
    "    return round(float(float(frame_number)/fps) , 2)"
   ]
  },
  {
   "cell_type": "markdown",
   "metadata": {},
   "source": [
    "## Load deduplicated labels"
   ]
  },
  {
   "cell_type": "code",
   "execution_count": 3,
   "metadata": {},
   "outputs": [],
   "source": [
    "labels_csvfile = '/usr/local/data02/zahra/datasets/Tempuckey/labels/tempuckey_ground_truth_labels.csv'\n",
    "annotations_path = '/usr/local/data02/zahra/datasets/Tempuckey/labels/tempuckey_ground_truth_annotations.json'\n",
    "labels_info_path = '/usr/local/data02/zahra/datasets/Tempuckey/labels/tempuckey_video_info_and_gt_labels_split.csv'\n",
    "\n",
    "videos_path = '/usr/local/data02/zahra/datasets/Tempuckey/videos'\n",
    "labels_with_frame = read_csv(labels_csvfile)\n",
    "labels_with_ts = []"
   ]
  },
  {
   "cell_type": "markdown",
   "metadata": {},
   "source": [
    "## Sample train/valid/test sets (according to `shot_type`)"
   ]
  },
  {
   "cell_type": "code",
   "execution_count": 4,
   "metadata": {},
   "outputs": [],
   "source": [
    "# load labels as a df\n",
    "df = pd.DataFrame(labels_with_frame)\n",
    "headers = df.iloc[0]\n",
    "df  = pd.DataFrame(df.values[1:], columns=headers)"
   ]
  },
  {
   "cell_type": "code",
   "execution_count": 5,
   "metadata": {},
   "outputs": [],
   "source": [
    "### split train/test/valid sets with 60/20/20 ratio\n",
    "\n",
    "# test set: take 20% \n",
    "df_test = df.groupby('type').apply(lambda x: x.sample(frac=0.2, random_state=42))\n",
    "df_test = df_test.reset_index(drop=True)\n",
    "\n",
    "# train and valid sets: remains 80% for train and valid\n",
    "df_train_and_valid = df[~df.faceoff_ID.isin(df_test.faceoff_ID)]\n",
    "\n",
    "# validation set: take 25% of the 80% to amount to 20% of the 100% of the original data\n",
    "df_valid = df_train_and_valid.groupby('type').apply(lambda x: x.sample(frac=0.25, random_state=42))\n",
    "df_valid = df_valid.reset_index(drop=True)\n",
    "\n",
    "# train set: take the remaining 60% for training set\n",
    "df_train = df_train_and_valid[~df_train_and_valid.faceoff_ID.isin(df_valid.faceoff_ID)]"
   ]
  },
  {
   "cell_type": "markdown",
   "metadata": {},
   "source": [
    "## Create Video Info csv and annotations json "
   ]
  },
  {
   "cell_type": "code",
   "execution_count": 6,
   "metadata": {},
   "outputs": [],
   "source": [
    "train_faceoff_IDs = df_train.faceoff_ID.unique()\n",
    "test_faceoff_IDs = df_test.faceoff_ID.unique()\n",
    "valid_faceoff_IDs = df_valid.faceoff_ID.unique()\n",
    "\n",
    "splits = {}\n",
    "for fid in train_faceoff_IDs:\n",
    "    splits[fid] = 'train'\n",
    "for fid in test_faceoff_IDs:\n",
    "    splits[fid] = 'test'\n",
    "for fid in valid_faceoff_IDs:\n",
    "    splits[fid] = 'valid'\n"
   ]
  },
  {
   "cell_type": "code",
   "execution_count": 7,
   "metadata": {},
   "outputs": [],
   "source": [
    "header = ['faceoff_ID', 'video_name', 'beg_frame', 'end_frame', 'beg_ts', 'end_ts', 'shot_type', 'fps', 'rfps', 'frame_count', 'video_duration', 'split']\n",
    "\n",
    "for line in labels_with_frame:\n",
    "    if line[0] == 'faceoff_ID':\n",
    "        continue\n",
    "    \n",
    "    path_ = '{}/{}'.format(videos_path, line[1])\n",
    "    cap = cv2.VideoCapture(path_)\n",
    "    fps = cap.get(cv2.CAP_PROP_FPS)\n",
    "    rfps = round(fps)\n",
    "    total_frame_count = int(cap.get(cv2.CAP_PROP_FRAME_COUNT))\n",
    "    duration = float(total_frame_count)/fps\n",
    "    \n",
    "    fid = line[0]\n",
    "    vidname = line[1]\n",
    "    beg_frame = line[2]\n",
    "    end_frame = line[3]\n",
    "    shot_type = line[4]\n",
    "    \n",
    "    video_info = [fid, \\\n",
    "               vidname, \\\n",
    "               beg_frame, \\\n",
    "               end_frame, \\\n",
    "               # beg_ts\n",
    "               frame_to_ts(float(beg_frame), fps), \\\n",
    "               # end_ts\n",
    "               frame_to_ts(float(end_frame), fps), \\\n",
    "               # shot_type\n",
    "               shot_type, \\\n",
    "               fps,  \\\n",
    "               rfps, \\\n",
    "               # total frame count in the video\n",
    "               total_frame_count, \\\n",
    "               # video duration in seconds\n",
    "               duration, \\\n",
    "               splits[fid]\n",
    "              ]\n",
    "    \n",
    "    labels_with_ts.append(video_info)"
   ]
  },
  {
   "cell_type": "code",
   "execution_count": 8,
   "metadata": {},
   "outputs": [],
   "source": [
    "labels_json = list_to_dict(labels_with_ts)"
   ]
  },
  {
   "cell_type": "code",
   "execution_count": 9,
   "metadata": {},
   "outputs": [],
   "source": [
    "labels_json_annotation = {}\n",
    "labels_json_annotation['version'] = 'VERSION 1.0'\n",
    "labels_json_annotation['results'] = labels_json\n",
    "labels_json_annotation['external_data'] = {}\n",
    "json.dump(labels_json_annotation, open(annotations_path,'w'))"
   ]
  },
  {
   "cell_type": "code",
   "execution_count": 10,
   "metadata": {},
   "outputs": [],
   "source": [
    "labels_df = pd.DataFrame(labels_with_ts, columns = header)"
   ]
  },
  {
   "cell_type": "code",
   "execution_count": 11,
   "metadata": {},
   "outputs": [],
   "source": [
    "labels_df.to_csv(labels_info_path, sep = ',', index = False)"
   ]
  },
  {
   "cell_type": "code",
   "execution_count": 12,
   "metadata": {},
   "outputs": [
    {
     "data": {
      "text/plain": [
       "split\n",
       "test      64\n",
       "train    194\n",
       "valid     64\n",
       "Name: faceoff_ID, dtype: int64"
      ]
     },
     "execution_count": 12,
     "metadata": {},
     "output_type": "execute_result"
    }
   ],
   "source": [
    "labels_df.groupby(['split']).count()['faceoff_ID']"
   ]
  },
  {
   "cell_type": "code",
   "execution_count": 13,
   "metadata": {},
   "outputs": [
    {
     "data": {
      "text/plain": [
       "[{'frames': ['0', '135'],\n",
       "  'segment': [0.0, 4.5],\n",
       "  'shot_type': 'close',\n",
       "  'split': 'test'},\n",
       " {'frames': ['135', '390'],\n",
       "  'segment': [4.5, 13.01],\n",
       "  'shot_type': 'close',\n",
       "  'split': 'valid'}]"
      ]
     },
     "execution_count": 13,
     "metadata": {},
     "output_type": "execute_result"
    }
   ],
   "source": [
    "labels_json_annotation['results']['video_FACEOFF_000055.mp4']"
   ]
  },
  {
   "cell_type": "markdown",
   "metadata": {},
   "source": [
    "## video info csv for custom input"
   ]
  },
  {
   "cell_type": "code",
   "execution_count": 14,
   "metadata": {},
   "outputs": [],
   "source": [
    "bsn_video_info_path = '/usr/local/data02/zahra/datasets/Tempuckey/labels/tempuckey_video_info_split.csv'\n",
    "bsn_video_info_df = labels_df[['faceoff_ID','video_name', 'frame_count','video_duration','fps','rfps','split']]\n",
    "bsn_video_info_df.to_csv(bsn_video_info_path, sep = ',', index = False)"
   ]
  },
  {
   "cell_type": "code",
   "execution_count": null,
   "metadata": {},
   "outputs": [],
   "source": []
  }
 ],
 "metadata": {
  "kernelspec": {
   "display_name": "Python 3",
   "language": "python",
   "name": "python3"
  },
  "language_info": {
   "codemirror_mode": {
    "name": "ipython",
    "version": 3
   },
   "file_extension": ".py",
   "mimetype": "text/x-python",
   "name": "python",
   "nbconvert_exporter": "python",
   "pygments_lexer": "ipython3",
   "version": "3.6.9"
  }
 },
 "nbformat": 4,
 "nbformat_minor": 2
}
