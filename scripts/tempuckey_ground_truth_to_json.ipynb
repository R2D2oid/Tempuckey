{
 "cells": [
  {
   "cell_type": "code",
   "execution_count": 1,
   "metadata": {},
   "outputs": [],
   "source": [
    "import csv\n",
    "import cv2\n",
    "import json"
   ]
  },
  {
   "cell_type": "code",
   "execution_count": 2,
   "metadata": {},
   "outputs": [],
   "source": [
    "def read_csv(csv_path):\n",
    "    content = []\n",
    "\n",
    "    with open(csv_path, 'r') as csvfile:\n",
    "        reader = csv.reader(csvfile, quoting = csv.QUOTE_ALL)\n",
    "        for row in reader: # each row is a list\n",
    "            content.append(row)\n",
    "\n",
    "    return content\n",
    "\n",
    "\n",
    "def list_to_dict(lst):\n",
    "    dct = {}\n",
    "    for row in labels_ts:\n",
    "        if row[1] in dct.keys():\n",
    "            # there are some repititions in the csv labels\n",
    "            # if the exact segment was previously present in dictionary, skip it\n",
    "            flag = False\n",
    "            for segm in dct[row[1]]:\n",
    "                item = {'segment': [(row[2]), (row[3])]}\n",
    "                str1 = str(item['segment'][0]) + str(item['segment'][1])\n",
    "                str2 = str(segm['segment'][0]) + str(segm['segment'][1])\n",
    "                if str1 == str2:\n",
    "                    flag = True\n",
    "                    continue\n",
    "            if not flag:\n",
    "                dct[row[1]].append({'segment': [float(row[2]), float(row[3])]})\n",
    "        else:\n",
    "            dct[row[1]] = [{'segment': [float(row[2]), float(row[3])]}]\n",
    "    return dct\n",
    "\n",
    "\n",
    "def frame_to_ts(frame_number, fps):\n",
    "    return round(float(float(frame_number)/fps) , 2)"
   ]
  },
  {
   "cell_type": "code",
   "execution_count": 3,
   "metadata": {},
   "outputs": [],
   "source": [
    "csvfile = '/usr/local/data02/zahra/datasets/Tempuckey/labels/ground_truth/tempuckey_ground_truth_labels.csv'\n",
    "videos_path = '/usr/local/data02/zahra/datasets/Tempuckey/videos'\n",
    "labels_frame = read_csv(csvfile)\n",
    "labels_ts = []"
   ]
  },
  {
   "cell_type": "code",
   "execution_count": 4,
   "metadata": {},
   "outputs": [],
   "source": [
    "for line in labels_frame:\n",
    "    if line[0] == 'faceoff_ID':\n",
    "        continue\n",
    "    \n",
    "    path_ = '{}/{}'.format(videos_path, line[1])\n",
    "    cap = cv2.VideoCapture(path_)\n",
    "    fps = cap.get(cv2.CAP_PROP_FPS)\n",
    "    \n",
    "    line_ts = [line[0], \\\n",
    "               line[1], \\\n",
    "               frame_to_ts(float(line[2]), fps), \\\n",
    "               frame_to_ts(float(line[3]), fps), \\\n",
    "               line[4]]\n",
    "    \n",
    "    labels_ts.append(line_ts)"
   ]
  },
  {
   "cell_type": "code",
   "execution_count": 5,
   "metadata": {},
   "outputs": [],
   "source": [
    "labels_json = list_to_dict(labels_ts)"
   ]
  },
  {
   "cell_type": "code",
   "execution_count": 6,
   "metadata": {},
   "outputs": [],
   "source": [
    "labels_json_annotation = {}\n",
    "labels_json_annotation['version'] = 'VERSION 1.0'\n",
    "labels_json_annotation['results'] = labels_json\n",
    "labels_json_annotation['external_data'] = {}\n",
    "json.dump(labels_json_annotation, open('/usr/local/data02/zahra/datasets/Tempuckey/labels/tempuckey_ground_truth_annotations.json','w'))"
   ]
  },
  {
   "cell_type": "code",
   "execution_count": null,
   "metadata": {},
   "outputs": [],
   "source": []
  }
 ],
 "metadata": {
  "kernelspec": {
   "display_name": "Python 3",
   "language": "python",
   "name": "python3"
  },
  "language_info": {
   "codemirror_mode": {
    "name": "ipython",
    "version": 3
   },
   "file_extension": ".py",
   "mimetype": "text/x-python",
   "name": "python",
   "nbconvert_exporter": "python",
   "pygments_lexer": "ipython3",
   "version": "3.6.9"
  }
 },
 "nbformat": 4,
 "nbformat_minor": 2
}
