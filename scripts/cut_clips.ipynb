{
 "cells": [
  {
   "cell_type": "code",
   "execution_count": 2,
   "metadata": {},
   "outputs": [],
   "source": [
    "import csv\n",
    "import os\n",
    "import subprocess\n",
    "from os import listdir\n",
    "from os.path import isfile, join\n",
    "from datetime import time, datetime\n",
    "import cv2\n",
    "from cv2 import VideoCapture as vc"
   ]
  },
  {
   "cell_type": "code",
   "execution_count": 9,
   "metadata": {},
   "outputs": [],
   "source": [
    "csv_path = '/usr/local/data01/zahra/datasets/FACEOFF/tempuckey_ground_truth.csv' \n",
    "root_dir = '/usr/local/data01/zahra/datasets/FACEOFF/untrimmed'\n",
    "dest = '/usr/local/data01/zahra/datasets/FACEOFF/snippets'"
   ]
  },
  {
   "cell_type": "code",
   "execution_count": 10,
   "metadata": {},
   "outputs": [],
   "source": [
    "videos_dir = '{}'.format(root_dir)\n",
    "videos_path = sorted(['{}/{}'.format(videos_dir, v) for v in listdir(videos_dir) if isfile(join(videos_dir, v)) and v.split('.')[1] == 'mp4'])"
   ]
  },
  {
   "cell_type": "code",
   "execution_count": 12,
   "metadata": {},
   "outputs": [],
   "source": [
    "def run_cmd(cmd):\n",
    "    process = subprocess.Popen(cmd, shell=True, stdout=subprocess.PIPE, stderr=subprocess.STDOUT)\n",
    "    output, error = process.communicate()\n",
    "    return output,error\n",
    "    \n",
    "def ffmpeg_cut(src, dest, start_time, duration_time):  \n",
    "    cmd = 'ffmpeg -ss {} -i \\\"{}\\\" -c copy -t {} \\\"{}\\\"'.format(start_time, src, duration_time, dest)\n",
    "    print(cmd)\n",
    "    return run_cmd(cmd)\n",
    "    \n",
    "    \n",
    "def wait_folder_creation(path):\n",
    "    import time\n",
    "    while not os.path.exists(path):\n",
    "        time.sleep(1)\n",
    "\n",
    "\n",
    "def create_folder(path):\n",
    "    if not os.path.exists(path):\n",
    "        success = os.mkdir(path)\n",
    "        wait_folder_creation(path)\n",
    "        return success\n",
    "\n",
    "\n",
    "def sec_to_time(sec):\n",
    "    micro_secs = int(divmod(sec,1)[1] * 1000000)\n",
    "    mins, secs = divmod(int(sec), 60)\n",
    "    hrs, mins = divmod(mins, 60)\n",
    "\n",
    "    return time(hrs, mins, secs, micro_secs)\n",
    "\n",
    "\n",
    "def get_cut_time(row):\n",
    "    return row[4], row[5]\n"
   ]
  },
  {
   "cell_type": "code",
   "execution_count": 13,
   "metadata": {},
   "outputs": [],
   "source": [
    "def read_csv(csv_path):\n",
    "    clips = {}\n",
    "\n",
    "    with open(csv_path, 'r') as csvfile:\n",
    "        reader = csv.reader(csvfile, quoting = csv.QUOTE_ALL)\n",
    "        count = 0\n",
    "        for row in reader: # each row is a list\n",
    "            count += 1\n",
    "            if count == 1:\n",
    "                continue\n",
    "            clips[row[0]] = (int(row[1]), int(row[2]))\n",
    "        \n",
    "    return clips"
   ]
  },
  {
   "cell_type": "code",
   "execution_count": 14,
   "metadata": {},
   "outputs": [],
   "source": [
    "clips = read_csv(csv_path)"
   ]
  },
  {
   "cell_type": "code",
   "execution_count": 18,
   "metadata": {},
   "outputs": [],
   "source": [
    "# for i in range(len(videos_path)):\n",
    "#     print()\n",
    "#     v_path = videos_path[i]\n",
    "#     vid = vc(v_path)\n",
    "#     vidname = v_path.split('/')[-1]\n",
    "#     print(vidname)\n",
    "    \n",
    "#     if vidname not in clips.keys():\n",
    "#         continue\n",
    "\n",
    "#     fps = vid.get(cv2.CAP_PROP_FPS)\n",
    "#     frame_beg = clips[vidname][0]\n",
    "#     frame_end = clips[vidname][1]\n",
    "        \n",
    "#     sec_beg = frame_beg/fps\n",
    "#     sec_end = frame_end/fps\n",
    "#     ts_beg = sec_to_time(sec_beg)\n",
    "#     ts_end = sec_to_time(sec_end)\n",
    "#     duration = sec_to_time(sec_end - sec_beg)\n",
    "\n",
    "#     print('faceoff start and end frames: ', frame_beg, frame_end)\n",
    "#     print('faceoff start and end timestamp: ', ts_beg, ts_end, duration)\n",
    "    \n",
    "#     dest_vid = '{}/{}'.format(dest, vidname)\n",
    "#     print(dest_vid)\n",
    "#     out, err = ffmpeg_cut(v_path, dest_vid, ts_beg, duration)   \n",
    "    "
   ]
  },
  {
   "cell_type": "code",
   "execution_count": 22,
   "metadata": {},
   "outputs": [
    {
     "name": "stdout",
     "output_type": "stream",
     "text": [
      "video_FACEOFF_000002.mp4\n",
      "video_FACEOFF_000003.mp4\n",
      "video_FACEOFF_000004.mp4\n",
      "video_FACEOFF_000005.mp4\n",
      "video_FACEOFF_000006.mp4\n",
      "video_FACEOFF_000008.mp4\n",
      "video_FACEOFF_000012.mp4\n",
      "video_FACEOFF_000013.mp4\n",
      "video_FACEOFF_000014.mp4\n",
      "video_FACEOFF_000015.mp4\n",
      "video_FACEOFF_000016.mp4\n",
      "video_FACEOFF_000017.mp4\n",
      "video_FACEOFF_000020.mp4\n",
      "video_FACEOFF_000022.mp4\n",
      "video_FACEOFF_000023.mp4\n",
      "video_FACEOFF_000026.mp4\n",
      "video_FACEOFF_000030.mp4\n",
      "video_FACEOFF_000034.mp4\n",
      "video_FACEOFF_000036.mp4\n",
      "video_FACEOFF_000038.mp4\n",
      "video_FACEOFF_000039.mp4\n",
      "video_FACEOFF_000040.mp4\n",
      "video_FACEOFF_000041.mp4\n",
      "video_FACEOFF_000042.mp4\n",
      "video_FACEOFF_000043.mp4\n",
      "video_FACEOFF_000046.mp4\n",
      "video_FACEOFF_000048.mp4\n",
      "video_FACEOFF_000049.mp4\n",
      "video_FACEOFF_000050.mp4\n",
      "video_FACEOFF_000066.mp4\n",
      "video_FACEOFF_000083.mp4\n",
      "video_FACEOFF_000084.mp4\n",
      "video_FACEOFF_000103.mp4\n",
      "video_FACEOFF_000118.mp4\n",
      "video_FACEOFF_000127.mp4\n",
      "video_FACEOFF_000164.mp4\n",
      "video_FACEOFF_000179.mp4\n",
      "video_FACEOFF_000180.mp4\n"
     ]
    }
   ],
   "source": [
    "import csv\n",
    "with open('/usr/local/data01/zahra/datasets/FACEOFF/new_tempuckey_ground_truth.csv', 'w') as csvfile:\n",
    "    csvwriter = csv.writer(csvfile, delimiter=',', quoting=csv.QUOTE_MINIMAL)\n",
    "    \n",
    "    for i in range(len(videos_path)):\n",
    "        v_path = videos_path[i]\n",
    "        vid = vc(v_path)\n",
    "        vidname = v_path.split('/')[-1]\n",
    "        print(vidname)\n",
    "\n",
    "        if vidname not in clips.keys():\n",
    "            continue\n",
    "\n",
    "        fps = vid.get(cv2.CAP_PROP_FPS)\n",
    "        frame_beg = clips[vidname][0]\n",
    "        frame_end = clips[vidname][1]\n",
    "\n",
    "        sec_beg = round(frame_beg/fps,2)\n",
    "        sec_end = round(frame_end/fps,2)\n",
    "        ts_beg = sec_to_time(sec_beg)\n",
    "        ts_end = sec_to_time(sec_end)\n",
    "        duration = sec_to_time(sec_end - sec_beg)\n",
    "\n",
    "        row = [vidname, sec_beg, sec_end, frame_beg, frame_end, ts_beg, ts_end]  \n",
    "\n",
    "        csvwriter.writerow(row)\n"
   ]
  },
  {
   "cell_type": "code",
   "execution_count": null,
   "metadata": {},
   "outputs": [],
   "source": []
  }
 ],
 "metadata": {
  "kernelspec": {
   "display_name": "Python 3",
   "language": "python",
   "name": "python3"
  },
  "language_info": {
   "codemirror_mode": {
    "name": "ipython",
    "version": 3
   },
   "file_extension": ".py",
   "mimetype": "text/x-python",
   "name": "python",
   "nbconvert_exporter": "python",
   "pygments_lexer": "ipython3",
   "version": "3.6.9"
  }
 },
 "nbformat": 4,
 "nbformat_minor": 2
}
