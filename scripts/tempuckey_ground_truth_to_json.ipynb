{
 "cells": [
  {
   "cell_type": "code",
   "execution_count": 25,
   "metadata": {},
   "outputs": [],
   "source": [
    "import csv\n",
    "import pickle as pkl"
   ]
  },
  {
   "cell_type": "code",
   "execution_count": 26,
   "metadata": {},
   "outputs": [],
   "source": [
    "def read_csv(csv_path):\n",
    "    content = []\n",
    "\n",
    "    with open(csv_path, 'r') as csvfile:\n",
    "        reader = csv.reader(csvfile, quoting = csv.QUOTE_ALL)\n",
    "        for row in reader: # each row is a list\n",
    "            content.append(row)\n",
    "\n",
    "    return content\n",
    "\n",
    "\n",
    "def list_to_dict(lst):\n",
    "    dct = {}\n",
    "    for row in lst:\n",
    "        dct[row[0]] = {'segment': [float(row[1]), float(row[2])]}\n",
    "    return dct"
   ]
  },
  {
   "cell_type": "code",
   "execution_count": 27,
   "metadata": {},
   "outputs": [],
   "source": [
    "csvfile = '/usr/local/data01/zahra/datasets/FACEOFF/tempuckey_ground_truth.csv'\n",
    "content_list = read_csv(csvfile)\n",
    "content_json = list_to_dict(content_list)"
   ]
  },
  {
   "cell_type": "code",
   "execution_count": 28,
   "metadata": {},
   "outputs": [],
   "source": [
    "import json\n",
    "json.dump(content_json, open('/usr/local/data01/zahra/datasets/FACEOFF/tempuckey_ground_truth.json','w'))"
   ]
  },
  {
   "cell_type": "code",
   "execution_count": null,
   "metadata": {},
   "outputs": [],
   "source": []
  }
 ],
 "metadata": {
  "kernelspec": {
   "display_name": "Python 3",
   "language": "python",
   "name": "python3"
  },
  "language_info": {
   "codemirror_mode": {
    "name": "ipython",
    "version": 3
   },
   "file_extension": ".py",
   "mimetype": "text/x-python",
   "name": "python",
   "nbconvert_exporter": "python",
   "pygments_lexer": "ipython3",
   "version": "3.6.9"
  }
 },
 "nbformat": 4,
 "nbformat_minor": 2
}
